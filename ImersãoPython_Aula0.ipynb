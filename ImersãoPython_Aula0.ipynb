{
  "nbformat": 4,
  "nbformat_minor": 0,
  "metadata": {
    "colab": {
      "provenance": [],
      "authorship_tag": "ABX9TyOtJD+/U10c6R8V1sVDxUZf",
      "include_colab_link": true
    },
    "kernelspec": {
      "name": "python3",
      "display_name": "Python 3"
    },
    "language_info": {
      "name": "python"
    }
  },
  "cells": [
    {
      "cell_type": "markdown",
      "metadata": {
        "id": "view-in-github",
        "colab_type": "text"
      },
      "source": [
        "<a href=\"https://colab.research.google.com/github/fcasersilva/ImersaoPython2025/blob/main/Imers%C3%A3oPython_Aula0.ipynb\" target=\"_parent\"><img src=\"https://colab.research.google.com/assets/colab-badge.svg\" alt=\"Open In Colab\"/></a>"
      ]
    },
    {
      "cell_type": "code",
      "source": [
        "#criando variaveis\n",
        "Fernando"
      ],
      "metadata": {
        "colab": {
          "base_uri": "https://localhost:8080/",
          "height": 159
        },
        "id": "NQi9Gz2H1P5X",
        "outputId": "a891aa89-5481-4c07-fab6-b79831822d61"
      },
      "execution_count": null,
      "outputs": [
        {
          "output_type": "error",
          "ename": "NameError",
          "evalue": "name 'Fernando' is not defined",
          "traceback": [
            "\u001b[0;31m---------------------------------------------------------------------------\u001b[0m",
            "\u001b[0;31mNameError\u001b[0m                                 Traceback (most recent call last)",
            "\u001b[0;32m/tmp/ipython-input-90-1495575598.py\u001b[0m in \u001b[0;36m<cell line: 0>\u001b[0;34m()\u001b[0m\n\u001b[1;32m      1\u001b[0m \u001b[0;31m#criando variaveis\u001b[0m\u001b[0;34m\u001b[0m\u001b[0;34m\u001b[0m\u001b[0m\n\u001b[0;32m----> 2\u001b[0;31m \u001b[0mFernando\u001b[0m\u001b[0;34m\u001b[0m\u001b[0;34m\u001b[0m\u001b[0m\n\u001b[0m",
            "\u001b[0;31mNameError\u001b[0m: name 'Fernando' is not defined"
          ]
        }
      ]
    },
    {
      "cell_type": "code",
      "source": [
        "variaveis"
      ],
      "metadata": {
        "id": "UbgeiPxE1e3g"
      },
      "execution_count": null,
      "outputs": []
    },
    {
      "cell_type": "code",
      "source": [
        "nome = 'Fernando'"
      ],
      "metadata": {
        "id": "zBoJGvS-1pmz"
      },
      "execution_count": null,
      "outputs": []
    },
    {
      "cell_type": "code",
      "source": [
        "# regra de nomenclatura\n",
        "cor_favorita = 'vermelho' #snake_case (normalmente mais usada nessa linguagem)\n",
        "corFavorita = 'azul calcinha' #camelCase\n",
        "# outras duas formas são: PascalCase e kebab-case"
      ],
      "metadata": {
        "id": "-pDTBMNt1w4h"
      },
      "execution_count": null,
      "outputs": []
    },
    {
      "cell_type": "code",
      "source": [
        "print('Bem-vindo a Imersão Python')"
      ],
      "metadata": {
        "colab": {
          "base_uri": "https://localhost:8080/"
        },
        "id": "tNVRkLmW1Vd8",
        "outputId": "7b0fc293-85cd-4113-d041-55ab71d82227"
      },
      "execution_count": null,
      "outputs": [
        {
          "output_type": "stream",
          "name": "stdout",
          "text": [
            "Bem-vindo a Imersão Python\n"
          ]
        }
      ]
    },
    {
      "cell_type": "code",
      "source": [
        "saldo = 5000"
      ],
      "metadata": {
        "id": "aCLll6P01_QN"
      },
      "execution_count": null,
      "outputs": []
    },
    {
      "cell_type": "code",
      "source": [
        "saldo"
      ],
      "metadata": {
        "colab": {
          "base_uri": "https://localhost:8080/"
        },
        "id": "BFJ4i0Fi24Er",
        "outputId": "6f87c0aa-5c6b-414d-9624-1f92722f37d1"
      },
      "execution_count": null,
      "outputs": [
        {
          "output_type": "execute_result",
          "data": {
            "text/plain": [
              "5000"
            ]
          },
          "metadata": {},
          "execution_count": 93
        }
      ]
    },
    {
      "cell_type": "code",
      "source": [
        "saldo = saldo + 2000"
      ],
      "metadata": {
        "id": "GkPFcwY026Ps"
      },
      "execution_count": null,
      "outputs": []
    },
    {
      "cell_type": "code",
      "source": [
        "print('Seu saldo é: R$', saldo)"
      ],
      "metadata": {
        "colab": {
          "base_uri": "https://localhost:8080/"
        },
        "id": "U8h52olc2_r0",
        "outputId": "f2e0b5b3-5e88-451c-e51f-f67a7cc105aa"
      },
      "execution_count": null,
      "outputs": [
        {
          "output_type": "stream",
          "name": "stdout",
          "text": [
            "Seu saldo é: R$ 7000\n"
          ]
        }
      ]
    },
    {
      "cell_type": "code",
      "source": [
        "saldo = saldo - 2500\n",
        "print('Seu saldo é: R$', saldo)"
      ],
      "metadata": {
        "colab": {
          "base_uri": "https://localhost:8080/"
        },
        "id": "5NBQ5To53BQT",
        "outputId": "6ced849a-a672-4d29-f985-c6dbac68006d"
      },
      "execution_count": null,
      "outputs": [
        {
          "output_type": "stream",
          "name": "stdout",
          "text": [
            "Seu saldo é: R$ 4500\n"
          ]
        }
      ]
    },
    {
      "cell_type": "code",
      "source": [
        "saldo = saldo - 500\n",
        "print('Seu saldo é: R$', saldo)"
      ],
      "metadata": {
        "colab": {
          "base_uri": "https://localhost:8080/"
        },
        "id": "n2oBc4_D3eC8",
        "outputId": "0465130e-7724-4bbb-9471-01e3b457d350"
      },
      "execution_count": null,
      "outputs": [
        {
          "output_type": "stream",
          "name": "stdout",
          "text": [
            "Seu saldo é: R$ 4000\n"
          ]
        }
      ]
    },
    {
      "cell_type": "code",
      "source": [
        "saldo = saldo * 2\n",
        "print('Seu saldo é: R$', saldo)"
      ],
      "metadata": {
        "colab": {
          "base_uri": "https://localhost:8080/"
        },
        "id": "VMEzrOEx32Y3",
        "outputId": "65dab4fb-50bf-4103-af97-6e393b11e90e"
      },
      "execution_count": null,
      "outputs": [
        {
          "output_type": "stream",
          "name": "stdout",
          "text": [
            "Seu saldo é: R$ 8000\n"
          ]
        }
      ]
    },
    {
      "cell_type": "code",
      "source": [
        "saldo = saldo / 2\n",
        "print('Seu saldo é: R$', saldo)"
      ],
      "metadata": {
        "colab": {
          "base_uri": "https://localhost:8080/"
        },
        "id": "PsKWrk0d4BHs",
        "outputId": "1a754eb4-96f1-4b42-d718-9e667aa7db66"
      },
      "execution_count": null,
      "outputs": [
        {
          "output_type": "stream",
          "name": "stdout",
          "text": [
            "Seu saldo é: R$ 4000.0\n"
          ]
        }
      ]
    },
    {
      "cell_type": "code",
      "source": [
        "import this\n",
        "'''\n",
        "Com esse comando deveria aparecer um texto do Tim peterson dizendo q é\n",
        "importante deixar claro os nomes das coisas/variaveis etc..\n",
        "Veja o exemplo abaixo:\n",
        "'''"
      ],
      "metadata": {
        "id": "dpa6f1bN6Kqm"
      },
      "execution_count": null,
      "outputs": []
    },
    {
      "cell_type": "code",
      "source": [
        "a= 300 # o q seria esse a?"
      ],
      "metadata": {
        "id": "qj7WAQPo6Mb2"
      },
      "execution_count": null,
      "outputs": []
    },
    {
      "cell_type": "code",
      "source": [
        "tenis_nike = 300 # já deixa bem claro"
      ],
      "metadata": {
        "id": "MpVbRSlB6tqN"
      },
      "execution_count": null,
      "outputs": []
    },
    {
      "cell_type": "code",
      "source": [
        "'''\n",
        "criando condições\n",
        "Ex: a pessoa já pode dirigir\n",
        "'''"
      ],
      "metadata": {
        "id": "Ctm79r8A68sp"
      },
      "execution_count": null,
      "outputs": []
    },
    {
      "cell_type": "code",
      "source": [
        "idade = 18"
      ],
      "metadata": {
        "id": "DZc9_ZfJ8F06"
      },
      "execution_count": null,
      "outputs": []
    },
    {
      "cell_type": "code",
      "source": [
        "'''\n",
        "se idade mais que 18\n",
        "pode dirigir\n",
        "senão\n",
        "não pode dirigir\n",
        "'''"
      ],
      "metadata": {
        "colab": {
          "base_uri": "https://localhost:8080/",
          "height": 36
        },
        "id": "5MqRTGrw8eGu",
        "outputId": "c798c99f-bf7f-4331-e0e0-60ebb36f39af"
      },
      "execution_count": null,
      "outputs": [
        {
          "output_type": "execute_result",
          "data": {
            "text/plain": [
              "'\\nse idade mais que 18\\npode dirigir\\nsenão\\nnão pode dirigir\\n'"
            ],
            "application/vnd.google.colaboratory.intrinsic+json": {
              "type": "string"
            }
          },
          "metadata": {},
          "execution_count": 120
        }
      ]
    },
    {
      "cell_type": "code",
      "source": [
        "if idade >= 18:\n",
        "  print('Pode dirigir!')\n",
        "else:\n",
        "    print('Não pode dirigir!')"
      ],
      "metadata": {
        "colab": {
          "base_uri": "https://localhost:8080/"
        },
        "id": "WNrCpAQT9GtP",
        "outputId": "b62c0be2-db9f-4819-d37b-33f37a2f8ae9"
      },
      "execution_count": null,
      "outputs": [
        {
          "output_type": "stream",
          "name": "stdout",
          "text": [
            "Pode dirigir!\n"
          ]
        }
      ]
    },
    {
      "cell_type": "code",
      "source": [],
      "metadata": {
        "id": "Jb4136Uq9oBX"
      },
      "execution_count": null,
      "outputs": []
    }
  ]
}