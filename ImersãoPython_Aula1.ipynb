{
  "nbformat": 4,
  "nbformat_minor": 0,
  "metadata": {
    "colab": {
      "provenance": [],
      "authorship_tag": "ABX9TyMOq+C6r+ynBGW9hJb3GiyE",
      "include_colab_link": true
    },
    "kernelspec": {
      "name": "python3",
      "display_name": "Python 3"
    },
    "language_info": {
      "name": "python"
    }
  },
  "cells": [
    {
      "cell_type": "markdown",
      "metadata": {
        "id": "view-in-github",
        "colab_type": "text"
      },
      "source": [
        "<a href=\"https://colab.research.google.com/github/fcasersilva/ImersaoPython2025/blob/main/Imers%C3%A3oPython_Aula1.ipynb\" target=\"_parent\"><img src=\"https://colab.research.google.com/assets/colab-badge.svg\" alt=\"Open In Colab\"/></a>"
      ]
    },
    {
      "cell_type": "code",
      "execution_count": 1,
      "metadata": {
        "id": "b6dcZxQ8fF7M"
      },
      "outputs": [],
      "source": [
        "import pandas as pd"
      ]
    },
    {
      "cell_type": "code",
      "source": [
        "#lendo a base de dados (colar o enderço do arquivo raw do git hub)\n",
        "df = pd.read_csv('https://raw.githubusercontent.com/fcasersilva/ImersaoPython2025/refs/heads/main/Imers%C3%A3oPython_Aula1.ipynb')"
      ],
      "metadata": {
        "id": "ahThWOz0fVW3"
      },
      "execution_count": 4,
      "outputs": []
    },
    {
      "cell_type": "code",
      "source": [],
      "metadata": {
        "id": "Mi4_3-ENf5P5"
      },
      "execution_count": null,
      "outputs": []
    }
  ]
}